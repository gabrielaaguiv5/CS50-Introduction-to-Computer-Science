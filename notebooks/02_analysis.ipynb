{
  "nbformat": 4,
  "nbformat_minor": 0,
  "metadata": {
    "colab": {
      "provenance": [],
      "authorship_tag": "ABX9TyNmjOg6CgfRfiJK6E9bpX9p",
      "include_colab_link": true
    },
    "kernelspec": {
      "name": "python3",
      "display_name": "Python 3"
    },
    "language_info": {
      "name": "python"
    }
  },
  "cells": [
    {
      "cell_type": "markdown",
      "metadata": {
        "id": "view-in-github",
        "colab_type": "text"
      },
      "source": [
        "<a href=\"https://colab.research.google.com/github/gabrielaaguiv5/CS50-Introduction-to-Computer-Science/blob/main/notebooks/02_analysis.ipynb\" target=\"_parent\"><img src=\"https://colab.research.google.com/assets/colab-badge.svg\" alt=\"Open In Colab\"/></a>"
      ]
    },
    {
      "cell_type": "code",
      "execution_count": null,
      "metadata": {
        "id": "mHglLnxjZiiC"
      },
      "outputs": [],
      "source": [
        "# =========================================================\n",
        "# SmartChat Insight - 02_analysis.ipynb\n",
        "# Análisis de clientes recurrentes, perdidos y productos más solicitados\n",
        "# =========================================================\n",
        "\n",
        "# 1️⃣ Importar librerías\n",
        "import pandas as pd\n",
        "from pathlib import Path\n",
        "import matplotlib.pyplot as plt\n",
        "\n",
        "# 2️⃣ Definir rutas\n",
        "clean_path = Path(\"data/cleaned/whatsapp_clean.csv\")\n",
        "output_path = Path(\"data/outputs/\")\n",
        "output_path.mkdir(parents=True, exist_ok=True)\n",
        "\n",
        "# 3️⃣ Cargar datos limpios\n",
        "df = pd.read_csv(clean_path)\n",
        "df[\"date\"] = pd.to_datetime(df[\"date\"], errors=\"coerce\")\n",
        "\n",
        "print(\"✅ Datos cargados correctamente\")\n",
        "print(f\"Total de mensajes: {len(df)}\")\n",
        "df.head(5)\n"
      ]
    }
  ]
}