{
  "nbformat": 4,
  "nbformat_minor": 0,
  "metadata": {
    "colab": {
      "provenance": [],
      "authorship_tag": "ABX9TyN3miFaZGA8aJRxHL5wRkNn",
      "include_colab_link": true
    },
    "kernelspec": {
      "name": "python3",
      "display_name": "Python 3"
    },
    "language_info": {
      "name": "python"
    }
  },
  "cells": [
    {
      "cell_type": "markdown",
      "metadata": {
        "id": "view-in-github",
        "colab_type": "text"
      },
      "source": [
        "<a href=\"https://colab.research.google.com/github/gabrielaaguiv5/CS50-Introduction-to-Computer-Science/blob/main/notebooks/03_export_powerbi.ipynb\" target=\"_parent\"><img src=\"https://colab.research.google.com/assets/colab-badge.svg\" alt=\"Open In Colab\"/></a>"
      ]
    },
    {
      "cell_type": "code",
      "execution_count": null,
      "metadata": {
        "id": "U-QdibBaZ6Ot"
      },
      "outputs": [],
      "source": [
        "# =========================================================\n",
        "# SmartChat Insight - 03_export_powerbi.ipynb\n",
        "# Exportación y preparación de datasets finales para Power BI\n",
        "# =========================================================\n",
        "\n",
        "# 1️⃣ Importar librerías\n",
        "import pandas as pd\n",
        "from pathlib import Path\n",
        "\n",
        "# 2️⃣ Rutas de entrada y salida\n",
        "input_path = Path(\"data/outputs/\")\n",
        "final_path = Path(\"data/outputs/final/\")\n",
        "final_path.mkdir(parents=True, exist_ok=True)\n",
        "\n",
        "# 3️⃣ Cargar archivos de análisis previos\n",
        "clientes = pd.read_csv(input_path / \"clientes.csv\")\n",
        "productos = pd.read_csv(input_path / \"productos.csv\")\n",
        "\n",
        "print(f\"✅ Clientes cargados: {len(clientes)} registros\")\n",
        "print(f\"✅ Productos cargados: {len(productos)} registros\")\n",
        "\n",
        "clientes.head(5)"
      ]
    },
    {
      "cell_type": "code",
      "source": [
        "# Normalizar nombres de columnas a formato uniforme para Power BI\n",
        "clientes.columns = clientes.columns.str.lower().str.replace(\" \", \"_\")\n",
        "productos.columns = productos.columns.str.lower().str.replace(\" \", \"_\")\n",
        "\n",
        "# Asegurar tipos de datos correctos\n",
        "clientes[\"primer_contacto\"] = pd.to_datetime(clientes[\"primer_contacto\"], errors=\"coerce\")\n",
        "clientes[\"ultimo_contacto\"] = pd.to_datetime(clientes[\"ultimo_contacto\"], errors=\"coerce\")\n",
        "clientes[\"dias_desde_ultimo\"] = clientes[\"dias_desde_ultimo\"].astype(int)\n"
      ],
      "metadata": {
        "id": "595pXS6qaIMI"
      },
      "execution_count": null,
      "outputs": []
    },
    {
      "cell_type": "code",
      "source": [
        "# Crear un resumen con totales por estado\n",
        "resumen_clientes = (\n",
        "    clientes.groupby(\"estado\")\n",
        "    .agg(\n",
        "        total_clientes=(\"user\", \"count\"),\n",
        "        promedio_mensajes=(\"mensajes\", \"mean\"),\n",
        "        dias_promedio_inactividad=(\"dias_desde_ultimo\", \"mean\")\n",
        "    )\n",
        "    .reset_index()\n",
        ")\n",
        "\n",
        "# Agregar fecha de generación del reporte\n",
        "from datetime import datetime\n",
        "resumen_clientes[\"fecha_reporte\"] = datetime.now().strftime(\"%Y-%m-%d\")\n",
        "resumen_clientes\n"
      ],
      "metadata": {
        "id": "3fUOuuuEaO4o"
      },
      "execution_count": null,
      "outputs": []
    },
    {
      "cell_type": "code",
      "source": [
        "clientes.to_csv(final_path / \"clientes_powerbi.csv\", index=False, encoding=\"utf-8-sig\")\n",
        "productos.to_csv(final_path / \"productos_powerbi.csv\", index=False, encoding=\"utf-8-sig\")\n",
        "resumen_clientes.to_csv(final_path / \"resumen_clientes.csv\", index=False, encoding=\"utf-8-sig\")\n",
        "\n",
        "print(\"✅ Archivos finales generados:\")\n",
        "for file in final_path.glob(\"*.csv\"):\n",
        "    print(\"-\", file.name)\n"
      ],
      "metadata": {
        "id": "uLFDmQGPaPbY"
      },
      "execution_count": null,
      "outputs": []
    }
  ]
}